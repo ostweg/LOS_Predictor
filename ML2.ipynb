{
  "cells": [
    {
      "cell_type": "code",
      "execution_count": 1,
      "metadata": {
        "id": "lzz3dayB-BZv"
      },
      "outputs": [],
      "source": [
        "import pandas as pd\n",
        "import numpy as np\n",
        "import matplotlib.pyplot as plt\n",
        "from torch import nn\n",
        "from google.colab import drive\n",
        "import seaborn as sns\n",
        "from tqdm.notebook import tqdm\n",
        "import torch\n",
        "from sklearn.model_selection import train_test_split\n",
        "from sklearn.metrics import confusion_matrix, classification_report\n",
        "from sklearn.preprocessing import MinMaxScaler\n",
        "from torch.utils.data import Dataset, DataLoader, WeightedRandomSampler"
      ]
    },
    {
      "cell_type": "code",
      "execution_count": 2,
      "metadata": {
        "colab": {
          "base_uri": "https://localhost:8080/"
        },
        "id": "zhdu6jeO-EdU",
        "outputId": "53c328ab-0b9d-4141-945f-6edc299de3ea"
      },
      "outputs": [
        {
          "output_type": "stream",
          "name": "stdout",
          "text": [
            "Mounted at /content/drive\n"
          ]
        }
      ],
      "source": [
        "drive.mount('/content/drive')"
      ]
    },
    {
      "cell_type": "code",
      "execution_count": 3,
      "metadata": {
        "id": "YIVhtXoi-Eg8"
      },
      "outputs": [],
      "source": [
        "unnormalized_data = pd.read_csv('drive/MyDrive/DSPRO/admission_data_clean_2.csv')"
      ]
    },
    {
      "cell_type": "code",
      "execution_count": 4,
      "metadata": {
        "id": "-okPyM9o-EmC"
      },
      "outputs": [],
      "source": [
        "unnormalized_data = unnormalized_data.drop(['Unnamed: 0','month year','GENDER','TYPE OF ADMISSION-EMERGENCY/OPD','RURAL','GENDER','OUTCOME'],axis=1)"
      ]
    },
    {
      "cell_type": "code",
      "execution_count": 5,
      "metadata": {
        "colab": {
          "base_uri": "https://localhost:8080/",
          "height": 448
        },
        "id": "WUS_Imd--Enw",
        "outputId": "7a463c9f-6cd4-4384-bcb2-a3a72720d607"
      },
      "outputs": [
        {
          "output_type": "execute_result",
          "data": {
            "text/plain": [
              "<Axes: >"
            ]
          },
          "metadata": {},
          "execution_count": 5
        },
        {
          "output_type": "display_data",
          "data": {
            "text/plain": [
              "<Figure size 640x480 with 1 Axes>"
            ],
            "image/png": "[encoded data removed]"
          },
          "metadata": {}
        }
      ],
      "source": [
        "unnormalized_data['DURATION OF STAY'].sort_values().value_counts().plot(kind='barh')"
      ]
    },
    {
      "cell_type": "markdown",
      "metadata": {
        "id": "NEvf4w7fthY5"
      },
      "source": [
        "### create short (2-6), middle (6-11) and long stay classes (11-21)\n",
        "### short stay=**0**, middle stay=**1**,long stay=**2**"
      ]
    },
    {
      "cell_type": "markdown",
      "metadata": {
        "id": "g6WnnBh5C8nl"
      },
      "source": [
        "# Dataset = Imbalanced"
      ]
    },
    {
      "cell_type": "code",
      "execution_count": 6,
      "metadata": {
        "colab": {
          "base_uri": "https://localhost:8080/",
          "height": 307
        },
        "id": "Q6SPxLOF-Es3",
        "outputId": "4a56b659-57dd-481b-f2cc-04e3418f813e"
      },
      "outputs": [
        {
          "output_type": "execute_result",
          "data": {
            "text/plain": [
              "   AGE  DURATION OF STAY  duration of intensive unit stay  SMOKING   ALCOHOL  \\\n",
              "0   81                 3                                2         0        0   \n",
              "1   65                 5                                2         0        1   \n",
              "2   53                 3                                3         0        0   \n",
              "3   67                 8                                6         0        0   \n",
              "4   44                10                                8         0        0   \n",
              "\n",
              "   DM  HTN  CAD  PRIOR CMP  CKD  ...  UTI  NEURO CARDIOGENIC SYNCOPE  \\\n",
              "0   1    0    0          0    0  ...    0                          0   \n",
              "1   0    1    1          0    0  ...    0                          0   \n",
              "2   1    0    1          0    0  ...    0                          0   \n",
              "3   0    1    1          0    0  ...    0                          0   \n",
              "4   1    1    1          1    0  ...    0                          0   \n",
              "\n",
              "   ORTHOSTATIC  INFECTIVE ENDOCARDITIS  DVT  CARDIOGENIC SHOCK  SHOCK  \\\n",
              "0            0                       0    0                  0      0   \n",
              "1            0                       0    0                  0      0   \n",
              "2            0                       0    0                  0      0   \n",
              "3            0                       0    0                  0      0   \n",
              "4            0                       0    0                  0      0   \n",
              "\n",
              "   PULMONARY EMBOLISM  CHEST INFECTION  stay_class  \n",
              "0                   0                0           0  \n",
              "1                   0                0           0  \n",
              "2                   0                0           0  \n",
              "3                   0                0           1  \n",
              "4                   0                0           1  \n",
              "\n",
              "[5 rows x 48 columns]"
            ],
            "text/html": [
              "\n",
              "  <div id=\"df-1c692150-ad42-459b-8f08-a5197a718393\" class=\"colab-df-container\">\n",
              "    <div>\n",
              "<style scoped>\n",
              "    .dataframe tbody tr th:only-of-type {\n",
              "        vertical-align: middle;\n",
              "    }\n",
              "\n",
              "    .dataframe tbody tr th {\n",
              "        vertical-align: top;\n",
              "    }\n",
              "\n",
              "    .dataframe thead th {\n",
              "        text-align: right;\n",
              "    }\n",
              "</style>\n",
              "<table border=\"1\" class=\"dataframe\">\n",
              "  <thead>\n",
              "    <tr style=\"text-align: right;\">\n",
              "      <th></th>\n",
              "      <th>AGE</th>\n",
              "      <th>DURATION OF STAY</th>\n",
              "      <th>duration of intensive unit stay</th>\n",
              "      <th>SMOKING</th>\n",
              "      <th>ALCOHOL</th>\n",
              "      <th>DM</th>\n",
              "      <th>HTN</th>\n",
              "      <th>CAD</th>\n",
              "      <th>PRIOR CMP</th>\n",
              "      <th>CKD</th>\n",
              "      <th>...</th>\n",
              "      <th>UTI</th>\n",
              "      <th>NEURO CARDIOGENIC SYNCOPE</th>\n",
              "      <th>ORTHOSTATIC</th>\n",
              "      <th>INFECTIVE ENDOCARDITIS</th>\n",
              "      <th>DVT</th>\n",
              "      <th>CARDIOGENIC SHOCK</th>\n",
              "      <th>SHOCK</th>\n",
              "      <th>PULMONARY EMBOLISM</th>\n",
              "      <th>CHEST INFECTION</th>\n",
              "      <th>stay_class</th>\n",
              "    </tr>\n",
              "  </thead>\n",
              "  <tbody>\n",
              "    <tr>\n",
              "      <th>0</th>\n",
              "      <td>81</td>\n",
              "      <td>3</td>\n",
              "      <td>2</td>\n",
              "      <td>0</td>\n",
              "      <td>0</td>\n",
              "      <td>1</td>\n",
              "      <td>0</td>\n",
              "      <td>0</td>\n",
              "      <td>0</td>\n",
              "      <td>0</td>\n",
              "      <td>...</td>\n",
              "      <td>0</td>\n",
              "      <td>0</td>\n",
              "      <td>0</td>\n",
              "      <td>0</td>\n",
              "      <td>0</td>\n",
              "      <td>0</td>\n",
              "      <td>0</td>\n",
              "      <td>0</td>\n",
              "      <td>0</td>\n",
              "      <td>0</td>\n",
              "    </tr>\n",
              "    <tr>\n",
              "      <th>1</th>\n",
              "      <td>65</td>\n",
              "      <td>5</td>\n",
              "      <td>2</td>\n",
              "      <td>0</td>\n",
              "      <td>1</td>\n",
              "      <td>0</td>\n",
              "      <td>1</td>\n",
              "      <td>1</td>\n",
              "      <td>0</td>\n",
              "      <td>0</td>\n",
              "      <td>...</td>\n",
              "      <td>0</td>\n",
              "      <td>0</td>\n",
              "      <td>0</td>\n",
              "      <td>0</td>\n",
              "      <td>0</td>\n",
              "      <td>0</td>\n",
              "      <td>0</td>\n",
              "      <td>0</td>\n",
              "      <td>0</td>\n",
              "      <td>0</td>\n",
              "    </tr>\n",
              "    <tr>\n",
              "      <th>2</th>\n",
              "      <td>53</td>\n",
              "      <td>3</td>\n",
              "      <td>3</td>\n",
              "      <td>0</td>\n",
              "      <td>0</td>\n",
              "      <td>1</td>\n",
              "      <td>0</td>\n",
              "      <td>1</td>\n",
              "      <td>0</td>\n",
              "      <td>0</td>\n",
              "      <td>...</td>\n",
              "      <td>0</td>\n",
              "      <td>0</td>\n",
              "      <td>0</td>\n",
              "      <td>0</td>\n",
              "      <td>0</td>\n",
              "      <td>0</td>\n",
              "      <td>0</td>\n",
              "      <td>0</td>\n",
              "      <td>0</td>\n",
              "      <td>0</td>\n",
              "    </tr>\n",
              "    <tr>\n",
              "      <th>3</th>\n",
              "      <td>67</td>\n",
              "      <td>8</td>\n",
              "      <td>6</td>\n",
              "      <td>0</td>\n",
              "      <td>0</td>\n",
              "      <td>0</td>\n",
              "      <td>1</td>\n",
              "      <td>1</td>\n",
              "      <td>0</td>\n",
              "      <td>0</td>\n",
              "      <td>...</td>\n",
              "      <td>0</td>\n",
              "      <td>0</td>\n",
              "      <td>0</td>\n",
              "      <td>0</td>\n",
              "      <td>0</td>\n",
              "      <td>0</td>\n",
              "      <td>0</td>\n",
              "      <td>0</td>\n",
              "      <td>0</td>\n",
              "      <td>1</td>\n",
              "    </tr>\n",
              "    <tr>\n",
              "      <th>4</th>\n",
              "      <td>44</td>\n",
              "      <td>10</td>\n",
              "      <td>8</td>\n",
              "      <td>0</td>\n",
              "      <td>0</td>\n",
              "      <td>1</td>\n",
              "      <td>1</td>\n",
              "      <td>1</td>\n",
              "      <td>1</td>\n",
              "      <td>0</td>\n",
              "      <td>...</td>\n",
              "      <td>0</td>\n",
              "      <td>0</td>\n",
              "      <td>0</td>\n",
              "      <td>0</td>\n",
              "      <td>0</td>\n",
              "      <td>0</td>\n",
              "      <td>0</td>\n",
              "      <td>0</td>\n",
              "      <td>0</td>\n",
              "      <td>1</td>\n",
              "    </tr>\n",
              "  </tbody>\n",
              "</table>\n",
              "<p>5 rows × 48 columns</p>\n",
              "</div>\n",
              "    <div class=\"colab-df-buttons\">\n",
              "\n",
              "  <div class=\"colab-df-container\">\n",
              "    <button class=\"colab-df-convert\" onclick=\"convertToInteractive('df-1c692150-ad42-459b-8f08-a5197a718393')\"\n",
              "            title=\"Convert this dataframe to an interactive table.\"\n",
              "            style=\"display:none;\">\n",
              "\n",
              "  <svg xmlns=\"http://www.w3.org/2000/svg\" height=\"24px\" viewBox=\"0 -960 960 960\">\n",
              "    <path d=\"M120-120v-720h720v720H120Zm60-500h600v-160H180v160Zm220 220h160v-160H400v160Zm0 220h160v-160H400v160ZM180-400h160v-160H180v160Zm440 0h160v-160H620v160ZM180-180h160v-160H180v160Zm440 0h160v-160H620v160Z\"/>\n",
              "  </svg>\n",
              "    </button>\n",
              "\n",
              "  <style>\n",
              "    .colab-df-container {\n",
              "      display:flex;\n",
              "      gap: 12px;\n",
              "    }\n",
              "\n",
              "    .colab-df-convert {\n",
              "      background-color: #E8F0FE;\n",
              "      border: none;\n",
              "      border-radius: 50%;\n",
              "      cursor: pointer;\n",
              "      display: none;\n",
              "      fill: #1967D2;\n",
              "      height: 32px;\n",
              "      padding: 0 0 0 0;\n",
              "      width: 32px;\n",
              "    }\n",
              "\n",
              "    .colab-df-convert:hover {\n",
              "      background-color: #E2EBFA;\n",
              "      box-shadow: 0px 1px 2px rgba(60, 64, 67, 0.3), 0px 1px 3px 1px rgba(60, 64, 67, 0.15);\n",
              "      fill: #174EA6;\n",
              "    }\n",
              "\n",
              "    .colab-df-buttons div {\n",
              "      margin-bottom: 4px;\n",
              "    }\n",
              "\n",
              "    [theme=dark] .colab-df-convert {\n",
              "      background-color: #3B4455;\n",
              "      fill: #D2E3FC;\n",
              "    }\n",
              "\n",
              "    [theme=dark] .colab-df-convert:hover {\n",
              "      background-color: #434B5C;\n",
              "      box-shadow: 0px 1px 3px 1px rgba(0, 0, 0, 0.15);\n",
              "      filter: drop-shadow(0px 1px 2px rgba(0, 0, 0, 0.3));\n",
              "      fill: #FFFFFF;\n",
              "    }\n",
              "  </style>\n",
              "\n",
              "    <script>\n",
              "      const buttonEl =\n",
              "        document.querySelector('#df-1c692150-ad42-459b-8f08-a5197a718393 button.colab-df-convert');\n",
              "      buttonEl.style.display =\n",
              "        google.colab.kernel.accessAllowed ? 'block' : 'none';\n",
              "\n",
              "      async function convertToInteractive(key) {\n",
              "        const element = document.querySelector('#df-1c692150-ad42-459b-8f08-a5197a718393');\n",
              "        const dataTable =\n",
              "          await google.colab.kernel.invokeFunction('convertToInteractive',\n",
              "                                                    [key], {});\n",
              "        if (!dataTable) return;\n",
              "\n",
              "        const docLinkHtml = 'Like what you see? Visit the ' +\n",
              "          '<a target=\"_blank\" href=https://colab.research.google.com/notebooks/data_table.ipynb>data table notebook</a>'\n",
              "          + ' to learn more about interactive tables.';\n",
              "        element.innerHTML = '';\n",
              "        dataTable['output_type'] = 'display_data';\n",
              "        await google.colab.output.renderOutput(dataTable, element);\n",
              "        const docLink = document.createElement('div');\n",
              "        docLink.innerHTML = docLinkHtml;\n",
              "        element.appendChild(docLink);\n",
              "      }\n",
              "    </script>\n",
              "  </div>\n",
              "\n",
              "\n",
              "<div id=\"df-9c4273cc-6b9e-4b94-87d4-9e80bccbcff8\">\n",
              "  <button class=\"colab-df-quickchart\" onclick=\"quickchart('df-9c4273cc-6b9e-4b94-87d4-9e80bccbcff8')\"\n",
              "            title=\"Suggest charts\"\n",
              "            style=\"display:none;\">\n",
              "\n",
              "<svg xmlns=\"http://www.w3.org/2000/svg\" height=\"24px\"viewBox=\"0 0 24 24\"\n",
              "     width=\"24px\">\n",
              "    <g>\n",
              "        <path d=\"M19 3H5c-1.1 0-2 .9-2 2v14c0 1.1.9 2 2 2h14c1.1 0 2-.9 2-2V5c0-1.1-.9-2-2-2zM9 17H7v-7h2v7zm4 0h-2V7h2v10zm4 0h-2v-4h2v4z\"/>\n",
              "    </g>\n",
              "</svg>\n",
              "  </button>\n",
              "\n",
              "<style>\n",
              "  .colab-df-quickchart {\n",
              "      --bg-color: #E8F0FE;\n",
              "      --fill-color: #1967D2;\n",
              "      --hover-bg-color: #E2EBFA;\n",
              "      --hover-fill-color: #174EA6;\n",
              "      --disabled-fill-color: #AAA;\n",
              "      --disabled-bg-color: #DDD;\n",
              "  }\n",
              "\n",
              "  [theme=dark] .colab-df-quickchart {\n",
              "      --bg-color: #3B4455;\n",
              "      --fill-color: #D2E3FC;\n",
              "      --hover-bg-color: #434B5C;\n",
              "      --hover-fill-color: #FFFFFF;\n",
              "      --disabled-bg-color: #3B4455;\n",
              "      --disabled-fill-color: #666;\n",
              "  }\n",
              "\n",
              "  .colab-df-quickchart {\n",
              "    background-color: var(--bg-color);\n",
              "    border: none;\n",
              "    border-radius: 50%;\n",
              "    cursor: pointer;\n",
              "    display: none;\n",
              "    fill: var(--fill-color);\n",
              "    height: 32px;\n",
              "    padding: 0;\n",
              "    width: 32px;\n",
              "  }\n",
              "\n",
              "  .colab-df-quickchart:hover {\n",
              "    background-color: var(--hover-bg-color);\n",
              "    box-shadow: 0 1px 2px rgba(60, 64, 67, 0.3), 0 1px 3px 1px rgba(60, 64, 67, 0.15);\n",
              "    fill: var(--button-hover-fill-color);\n",
              "  }\n",
              "\n",
              "  .colab-df-quickchart-complete:disabled,\n",
              "  .colab-df-quickchart-complete:disabled:hover {\n",
              "    background-color: var(--disabled-bg-color);\n",
              "    fill: var(--disabled-fill-color);\n",
              "    box-shadow: none;\n",
              "  }\n",
              "\n",
              "  .colab-df-spinner {\n",
              "    border: 2px solid var(--fill-color);\n",
              "    border-color: transparent;\n",
              "    border-bottom-color: var(--fill-color);\n",
              "    animation:\n",
              "      spin 1s steps(1) infinite;\n",
              "  }\n",
              "\n",
              "  @keyframes spin {\n",
              "    0% {\n",
              "      border-color: transparent;\n",
              "      border-bottom-color: var(--fill-color);\n",
              "      border-left-color: var(--fill-color);\n",
              "    }\n",
              "    20% {\n",
              "      border-color: transparent;\n",
              "      border-left-color: var(--fill-color);\n",
              "      border-top-color: var(--fill-color);\n",
              "    }\n",
              "    30% {\n",
              "      border-color: transparent;\n",
              "      border-left-color: var(--fill-color);\n",
              "      border-top-color: var(--fill-color);\n",
              "      border-right-color: var(--fill-color);\n",
              "    }\n",
              "    40% {\n",
              "      border-color: transparent;\n",
              "      border-right-color: var(--fill-color);\n",
              "      border-top-color: var(--fill-color);\n",
              "    }\n",
              "    60% {\n",
              "      border-color: transparent;\n",
              "      border-right-color: var(--fill-color);\n",
              "    }\n",
              "    80% {\n",
              "      border-color: transparent;\n",
              "      border-right-color: var(--fill-color);\n",
              "      border-bottom-color: var(--fill-color);\n",
              "    }\n",
              "    90% {\n",
              "      border-color: transparent;\n",
              "      border-bottom-color: var(--fill-color);\n",
              "    }\n",
              "  }\n",
              "</style>\n",
              "\n",
              "  <script>\n",
              "    async function quickchart(key) {\n",
              "      const quickchartButtonEl =\n",
              "        document.querySelector('#' + key + ' button');\n",
              "      quickchartButtonEl.disabled = true;  // To prevent multiple clicks.\n",
              "      quickchartButtonEl.classList.add('colab-df-spinner');\n",
              "      try {\n",
              "        const charts = await google.colab.kernel.invokeFunction(\n",
              "            'suggestCharts', [key], {});\n",
              "      } catch (error) {\n",
              "        console.error('Error during call to suggestCharts:', error);\n",
              "      }\n",
              "      quickchartButtonEl.classList.remove('colab-df-spinner');\n",
              "      quickchartButtonEl.classList.add('colab-df-quickchart-complete');\n",
              "    }\n",
              "    (() => {\n",
              "      let quickchartButtonEl =\n",
              "        document.querySelector('#df-9c4273cc-6b9e-4b94-87d4-9e80bccbcff8 button');\n",
              "      quickchartButtonEl.style.display =\n",
              "        google.colab.kernel.accessAllowed ? 'block' : 'none';\n",
              "    })();\n",
              "  </script>\n",
              "</div>\n",
              "    </div>\n",
              "  </div>\n"
            ]
          },
          "metadata": {},
          "execution_count": 6
        }
      ],
      "source": [
        "class1_cond = ((unnormalized_data['DURATION OF STAY'] >= 0) & (unnormalized_data['DURATION OF STAY']<=5))\n",
        "class2_cond = ((unnormalized_data['DURATION OF STAY'] >= 6) & (unnormalized_data['DURATION OF STAY']<=11))\n",
        "class3_cond = ((unnormalized_data['DURATION OF STAY'] >= 12) & (unnormalized_data['DURATION OF STAY']<=21))\n",
        "\n",
        "\n",
        "unnormalized_data['stay_class'] = np.where((class1_cond), 0,np.where((class2_cond),1,np.where((class3_cond),2,0)))\n",
        "\n",
        "unnormalized_data.to_csv('unnormalized_data_with_stay_class.csv')\n",
        "\n",
        "unnormalized_data.head()\n"
      ]
    },
    {
      "cell_type": "code",
      "execution_count": 7,
      "metadata": {
        "colab": {
          "base_uri": "https://localhost:8080/"
        },
        "id": "wOHeq4jlt_0o",
        "outputId": "6f1d5546-0d17-4660-f5e7-8d94f3a3f1d2"
      },
      "outputs": [
        {
          "output_type": "execute_result",
          "data": {
            "text/plain": [
              "0    8266\n",
              "1    5726\n",
              "2    1418\n",
              "Name: stay_class, dtype: int64"
            ]
          },
          "metadata": {},
          "execution_count": 7
        }
      ],
      "source": [
        "device = \"cuda\" if torch.cuda.is_available() else \"cpu\"\n",
        "device\n",
        "\n",
        "unnormalized_data['stay_class'].value_counts()"
      ]
    },
    {
      "cell_type": "code",
      "execution_count": 8,
      "metadata": {
        "id": "ghx8gN8bINuy"
      },
      "outputs": [],
      "source": [
        "X = unnormalized_data.iloc[:, 0:-1]\n",
        "y = unnormalized_data.iloc[:, -1]"
      ]
    },
    {
      "cell_type": "code",
      "execution_count": 9,
      "metadata": {
        "id": "PwNg9tIWINxi"
      },
      "outputs": [],
      "source": [
        "X_trainval, X_test, y_trainval, y_test = train_test_split(X, y, test_size=0.2, stratify=y, random_state=33)"
      ]
    },
    {
      "cell_type": "code",
      "execution_count": 10,
      "metadata": {
        "id": "LW5Q-uODIN0T"
      },
      "outputs": [],
      "source": [
        "X_train, X_val, y_train, y_val = train_test_split(X_trainval, y_trainval, test_size=0.1, stratify=y_trainval, random_state=42)"
      ]
    },
    {
      "cell_type": "code",
      "execution_count": 11,
      "metadata": {
        "id": "1N1blQ2dIN3C"
      },
      "outputs": [],
      "source": [
        "scaler = MinMaxScaler()\n",
        "X_train = scaler.fit_transform(X_train)\n",
        "X_val = scaler.transform(X_val)\n",
        "X_test = scaler.transform(X_test)\n",
        "X_train, y_train = np.array(X_train), np.array(y_train)\n",
        "X_val, y_val = np.array(X_val), np.array(y_val)\n",
        "X_test, y_test = np.array(X_test), np.array(y_test)"
      ]
    },
    {
      "cell_type": "code",
      "execution_count": 12,
      "metadata": {
        "id": "OkGdLEgtIN6a"
      },
      "outputs": [],
      "source": [
        "def get_class_distribution(obj):\n",
        "    count_dict = {\n",
        "        \"0\": 0,\n",
        "        \"1\": 0,\n",
        "        \"2\": 0\n",
        "    }\n",
        "\n",
        "    for i in obj:\n",
        "        if i == 0:\n",
        "            count_dict['0'] += 1\n",
        "        elif i == 1:\n",
        "            count_dict['1'] += 1\n",
        "        elif i == 2:\n",
        "            count_dict['2'] += 1\n",
        "        else:\n",
        "            print(\"Check classes.\")\n",
        "\n",
        "    return count_dict"
      ]
    },
    {
      "cell_type": "code",
      "execution_count": 13,
      "metadata": {
        "colab": {
          "base_uri": "https://localhost:8080/",
          "height": 444
        },
        "id": "KkmO8-vVIN9S",
        "outputId": "d4b7ae53-e739-4152-e299-3d990a3ad19c"
      },
      "outputs": [
        {
          "output_type": "execute_result",
          "data": {
            "text/plain": [
              "Text(0.5, 1.0, 'Class Distribution in Test Set')"
            ]
          },
          "metadata": {},
          "execution_count": 13
        },
        {
          "output_type": "display_data",
          "data": {
            "text/plain": [
              "<Figure size 2500x700 with 3 Axes>"
            ],
            "image/png": "[encoded data removed]"
          },
          "metadata": {}
        }
      ],
      "source": [
        "fig, axes = plt.subplots(nrows=1, ncols=3, figsize=(25,7))\n",
        "\n",
        "sns.barplot(data = pd.DataFrame.from_dict([get_class_distribution(y_train)]).melt(), x = \"variable\", y=\"value\", hue=\"variable\",  ax=axes[0]).set_title('Class Distribution in Train Set')\n",
        "\n",
        "sns.barplot(data = pd.DataFrame.from_dict([get_class_distribution(y_val)]).melt(), x = \"variable\", y=\"value\", hue=\"variable\",  ax=axes[1]).set_title('Class Distribution in Val Set')\n",
        "\n",
        "sns.barplot(data = pd.DataFrame.from_dict([get_class_distribution(y_test)]).melt(), x = \"variable\", y=\"value\", hue=\"variable\",  ax=axes[2]).set_title('Class Distribution in Test Set')"
      ]
    },
    {
      "cell_type": "code",
      "execution_count": 14,
      "metadata": {
        "id": "4zuK60G5IOAC"
      },
      "outputs": [],
      "source": [
        "class ClassifierDataset(Dataset):\n",
        "\n",
        "    def __init__(self, X_data, y_data):\n",
        "        self.X_data = X_data\n",
        "        self.y_data = y_data\n",
        "\n",
        "    def __getitem__(self, index):\n",
        "        return self.X_data[index], self.y_data[index]\n",
        "\n",
        "    def __len__ (self):\n",
        "        return len(self.X_data)"
      ]
    },
    {
      "cell_type": "code",
      "execution_count": 15,
      "metadata": {
        "id": "wwhy6YwKNbFR"
      },
      "outputs": [],
      "source": [
        "train_dataset = ClassifierDataset(torch.from_numpy(X_train).float(), torch.from_numpy(y_train).long())\n",
        "\n",
        "val_dataset = ClassifierDataset(torch.from_numpy(X_val).float(), torch.from_numpy(y_val).long())\n",
        "\n",
        "test_dataset = ClassifierDataset(torch.from_numpy(X_test).float(), torch.from_numpy(y_test).long())"
      ]
    },
    {
      "cell_type": "code",
      "execution_count": 16,
      "metadata": {
        "id": "ULbXu76RN6ZS"
      },
      "outputs": [],
      "source": [
        "target_list = []\n",
        "for _, t in train_dataset:\n",
        "    target_list.append(t)\n",
        "\n",
        "target_list = torch.tensor(target_list)"
      ]
    },
    {
      "cell_type": "code",
      "execution_count": 17,
      "metadata": {
        "colab": {
          "base_uri": "https://localhost:8080/"
        },
        "id": "cQFOo41wOLv6",
        "outputId": "72d16cf5-c726-4b98-d48f-4c2ac6f39c14"
      },
      "outputs": [
        {
          "output_type": "stream",
          "name": "stdout",
          "text": [
            "0: 5952 1: 4123 2: 1020 \n",
            " Class Weights: tensor([0.0002, 0.0002, 0.0010])\n"
          ]
        }
      ],
      "source": [
        "class_count = [i for i in get_class_distribution(y_train).values()]\n",
        "class_weights = 1./torch.tensor(class_count, dtype=torch.float)\n",
        "print(f'0: {class_count[0]} 1: {class_count[1]} 2: {class_count[2]} \\n Class Weights: {class_weights}')"
      ]
    },
    {
      "cell_type": "code",
      "execution_count": 18,
      "metadata": {
        "colab": {
          "base_uri": "https://localhost:8080/"
        },
        "id": "BFx0PT7TPKAa",
        "outputId": "7da24364-74ee-4199-9269-0b481c6db3c3"
      },
      "outputs": [
        {
          "output_type": "execute_result",
          "data": {
            "text/plain": [
              "tensor([5952, 4123, 1020])"
            ]
          },
          "metadata": {},
          "execution_count": 18
        }
      ],
      "source": [
        "torch.bincount(target_list)"
      ]
    },
    {
      "cell_type": "code",
      "execution_count": 19,
      "metadata": {
        "id": "n4NVaHRHQIIb"
      },
      "outputs": [],
      "source": [
        "class_weights_all = class_weights[target_list]"
      ]
    },
    {
      "cell_type": "code",
      "execution_count": 20,
      "metadata": {
        "id": "jEKR7vqzQYzC"
      },
      "outputs": [],
      "source": [
        "weighted_sampler = WeightedRandomSampler(\n",
        "    weights=class_weights_all,\n",
        "    num_samples=len(class_weights_all),\n",
        "    replacement=True\n",
        ")"
      ]
    },
    {
      "cell_type": "code",
      "execution_count": 21,
      "metadata": {
        "id": "s93rpkkrQsb5"
      },
      "outputs": [],
      "source": [
        "EPOCHS = 300\n",
        "BATCH_SIZE = 16\n",
        "LEARNING_RATE = 0.00007\n",
        "NUM_FEATURES = len(X.columns)\n",
        "NUM_CLASSES = 3"
      ]
    },
    {
      "cell_type": "code",
      "execution_count": 22,
      "metadata": {
        "id": "OW3ogsDsRCAi"
      },
      "outputs": [],
      "source": [
        "train_loader = DataLoader(dataset=train_dataset,\n",
        "                          batch_size=64,\n",
        "                          sampler=weighted_sampler\n",
        ")\n",
        "val_loader = DataLoader(dataset=val_dataset, batch_size=16)\n",
        "test_loader = DataLoader(dataset=test_dataset, batch_size=16)"
      ]
    },
    {
      "cell_type": "code",
      "execution_count": 72,
      "metadata": {
        "id": "yFi4G38rRY2p"
      },
      "outputs": [],
      "source": [
        "class LOSClassification(nn.Module):\n",
        "    def __init__(self):\n",
        "        super().__init__()\n",
        "\n",
        "        self.layer_1 = nn.Linear(NUM_FEATURES, 256)\n",
        "        self.layer_2 = nn.Linear(256, 128)\n",
        "        self.layer_3 = nn.Linear(128, 64)\n",
        "        self.layer_out = nn.Linear(64, NUM_CLASSES)\n",
        "\n",
        "        self.relu = nn.ReLU()\n",
        "        self.dropout = nn.Dropout(p=0.2)\n",
        "        self.batchnorm1 = nn.BatchNorm1d(256)\n",
        "        self.batchnorm2 = nn.BatchNorm1d(128)\n",
        "        self.batchnorm3 = nn.BatchNorm1d(64)\n",
        "\n",
        "    def forward(self, x):\n",
        "        x = self.layer_1(x)\n",
        "        x = self.batchnorm1(x)\n",
        "        x = self.relu(x)\n",
        "\n",
        "        x = self.layer_2(x)\n",
        "        x = self.batchnorm2(x)\n",
        "        x = self.relu(x)\n",
        "        x = self.dropout(x)\n",
        "\n",
        "        x = self.layer_3(x)\n",
        "        x = self.batchnorm3(x)\n",
        "        x = self.relu(x)\n",
        "        x = self.dropout(x)\n",
        "\n",
        "        x = self.layer_out(x)\n",
        "\n",
        "        return x"
      ]
    },
    {
      "cell_type": "code",
      "execution_count": 24,
      "metadata": {
        "colab": {
          "base_uri": "https://localhost:8080/"
        },
        "id": "SCPnZautXknq",
        "outputId": "2f065a1a-0766-402e-e3e8-e012244baa32"
      },
      "outputs": [
        {
          "output_type": "stream",
          "name": "stdout",
          "text": [
            "LOSClassification(\n",
            "  (layer_1): Linear(in_features=47, out_features=256, bias=True)\n",
            "  (layer_2): Linear(in_features=256, out_features=128, bias=True)\n",
            "  (layer_3): Linear(in_features=128, out_features=64, bias=True)\n",
            "  (layer_out): Linear(in_features=64, out_features=3, bias=True)\n",
            "  (relu): ReLU()\n",
            "  (dropout): Dropout(p=0.2, inplace=False)\n",
            "  (batchnorm1): BatchNorm1d(256, eps=1e-05, momentum=0.1, affine=True, track_running_stats=True)\n",
            "  (batchnorm2): BatchNorm1d(128, eps=1e-05, momentum=0.1, affine=True, track_running_stats=True)\n",
            "  (batchnorm3): BatchNorm1d(64, eps=1e-05, momentum=0.1, affine=True, track_running_stats=True)\n",
            ")\n"
          ]
        }
      ],
      "source": [
        "model = LOSClassification()\n",
        "model.to(device)\n",
        "\n",
        "loss_fn = nn.CrossEntropyLoss(weight=class_weights.to(device))\n",
        "optimizer = torch.optim.Adam(model.parameters(), lr=LEARNING_RATE)\n",
        "\n",
        "print(model)"
      ]
    },
    {
      "cell_type": "code",
      "execution_count": 25,
      "metadata": {
        "id": "42X-HBM4Ykur"
      },
      "outputs": [],
      "source": [
        "def multi_acc(y_pred, y_test):\n",
        "    y_pred_softmax = torch.log_softmax(y_pred, dim = 1)\n",
        "    _, y_pred_tags = torch.max(y_pred_softmax, dim = 1)\n",
        "\n",
        "    correct_pred = (y_pred_tags == y_test).float()\n",
        "    acc = correct_pred.sum() / len(correct_pred)\n",
        "\n",
        "    acc = torch.round(acc * 100)\n",
        "\n",
        "    return acc"
      ]
    },
    {
      "cell_type": "code",
      "execution_count": 44,
      "metadata": {
        "id": "uJyXJyjQgW5k"
      },
      "outputs": [],
      "source": [
        "accuracy_stats = {\n",
        "    'train': [],\n",
        "    \"val\": []\n",
        "}\n",
        "loss_stats = {\n",
        "    'train': [],\n",
        "    \"val\": []\n",
        "}"
      ]
    },
    {
      "cell_type": "code",
      "execution_count": 45,
      "metadata": {
        "colab": {
          "base_uri": "https://localhost:8080/",
          "height": 1000,
          "referenced_widgets": [
            "552fa22ef70f424db3a1b09048ff3ee2",
            "37fceea5284749f0876c8621ff4a78a5",
            "45f6999638f9408f94b7e0f7fad99e0d",
            "d8330c0ada204e708f57431dce12e28d",
            "4d8605771b4f49139e127e94b802da3f",
            "2b1cac695fd94382aed0e671f23fc7a7",
            "9551d727f0b8436492f9a99ba9461d86",
            "bde46944410e4dd79b00d90aaeb0aa8e",
            "aa86769662264cffa6d79d479e3f8997",
            "584125cd47aa4ddd8185cb9c5906a17f",
            "b8c06e94b8964120bcc9fe48a4d9b342"
          ]
        },
        "id": "eqbgXm0GZGyy",
        "outputId": "e4987908-1b77-4f92-9d8b-2fc62297a4cc"
      },
      "outputs": [
        {
          "output_type": "display_data",
          "data": {
            "text/plain": [
              "  0%|          | 0/300 [00:00<?, ?it/s]"
            ],
            "application/vnd.jupyter.widget-view+json": {
              "version_major": 2,
              "version_minor": 0,
              "model_id": "552fa22ef70f424db3a1b09048ff3ee2"
            }
          },
          "metadata": {}
        },
        {
          "output_type": "stream",
          "name": "stdout",
          "text": [
            "Epoch 001: | Train Loss: 0.11057 | Val Loss: 0.19491 | Train Acc: 93.259| Val Acc: 91.218\n",
            "Epoch 002: | Train Loss: 0.09650 | Val Loss: 0.17264 | Train Acc: 94.017| Val Acc: 92.026\n",
            "Epoch 003: | Train Loss: 0.08386 | Val Loss: 0.15105 | Train Acc: 95.023| Val Acc: 93.872\n",
            "Epoch 004: | Train Loss: 0.07611 | Val Loss: 0.15464 | Train Acc: 95.586| Val Acc: 93.397\n",
            "Epoch 005: | Train Loss: 0.07542 | Val Loss: 0.14377 | Train Acc: 95.943| Val Acc: 93.923\n",
            "Epoch 006: | Train Loss: 0.06890 | Val Loss: 0.12673 | Train Acc: 96.339| Val Acc: 95.064\n",
            "Epoch 007: | Train Loss: 0.06534 | Val Loss: 0.13887 | Train Acc: 96.655| Val Acc: 94.103\n",
            "Epoch 008: | Train Loss: 0.06492 | Val Loss: 0.13917 | Train Acc: 96.431| Val Acc: 93.654\n",
            "Epoch 009: | Train Loss: 0.06142 | Val Loss: 0.12045 | Train Acc: 96.862| Val Acc: 95.385\n",
            "Epoch 010: | Train Loss: 0.05993 | Val Loss: 0.11150 | Train Acc: 97.000| Val Acc: 96.064\n",
            "Epoch 011: | Train Loss: 0.05711 | Val Loss: 0.12193 | Train Acc: 96.954| Val Acc: 94.615\n",
            "Epoch 012: | Train Loss: 0.05655 | Val Loss: 0.10712 | Train Acc: 97.333| Val Acc: 96.218\n",
            "Epoch 013: | Train Loss: 0.05429 | Val Loss: 0.10673 | Train Acc: 97.236| Val Acc: 95.667\n",
            "Epoch 014: | Train Loss: 0.05216 | Val Loss: 0.11078 | Train Acc: 97.586| Val Acc: 95.756\n",
            "Epoch 015: | Train Loss: 0.05033 | Val Loss: 0.10236 | Train Acc: 97.730| Val Acc: 96.308\n",
            "Epoch 016: | Train Loss: 0.05097 | Val Loss: 0.10321 | Train Acc: 97.862| Val Acc: 96.051\n",
            "Epoch 017: | Train Loss: 0.04657 | Val Loss: 0.10214 | Train Acc: 97.937| Val Acc: 96.308\n",
            "Epoch 018: | Train Loss: 0.04719 | Val Loss: 0.09570 | Train Acc: 98.011| Val Acc: 96.218\n",
            "Epoch 019: | Train Loss: 0.04121 | Val Loss: 0.09444 | Train Acc: 98.207| Val Acc: 95.910\n",
            "Epoch 020: | Train Loss: 0.04325 | Val Loss: 0.10273 | Train Acc: 98.075| Val Acc: 95.846\n",
            "Epoch 021: | Train Loss: 0.04520 | Val Loss: 0.08759 | Train Acc: 97.931| Val Acc: 96.692\n",
            "Epoch 022: | Train Loss: 0.04172 | Val Loss: 0.08331 | Train Acc: 98.098| Val Acc: 97.077\n",
            "Epoch 023: | Train Loss: 0.04047 | Val Loss: 0.08744 | Train Acc: 98.356| Val Acc: 96.462\n",
            "Epoch 024: | Train Loss: 0.03899 | Val Loss: 0.08885 | Train Acc: 98.466| Val Acc: 96.615\n",
            "Epoch 025: | Train Loss: 0.03867 | Val Loss: 0.08383 | Train Acc: 98.270| Val Acc: 96.923\n",
            "Epoch 026: | Train Loss: 0.03864 | Val Loss: 0.07887 | Train Acc: 98.477| Val Acc: 97.385\n",
            "Epoch 027: | Train Loss: 0.03811 | Val Loss: 0.07697 | Train Acc: 98.391| Val Acc: 97.000\n",
            "Epoch 028: | Train Loss: 0.03754 | Val Loss: 0.08127 | Train Acc: 98.293| Val Acc: 97.154\n",
            "Epoch 029: | Train Loss: 0.03821 | Val Loss: 0.07818 | Train Acc: 98.190| Val Acc: 97.295\n",
            "Epoch 030: | Train Loss: 0.04063 | Val Loss: 0.08073 | Train Acc: 98.224| Val Acc: 97.051\n",
            "Epoch 031: | Train Loss: 0.03772 | Val Loss: 0.07453 | Train Acc: 98.351| Val Acc: 97.372\n",
            "Epoch 032: | Train Loss: 0.03605 | Val Loss: 0.07707 | Train Acc: 98.328| Val Acc: 96.974\n",
            "Epoch 033: | Train Loss: 0.03615 | Val Loss: 0.07462 | Train Acc: 98.207| Val Acc: 97.295\n",
            "Epoch 034: | Train Loss: 0.03512 | Val Loss: 0.07499 | Train Acc: 98.494| Val Acc: 97.295\n",
            "Epoch 035: | Train Loss: 0.03603 | Val Loss: 0.07495 | Train Acc: 98.431| Val Acc: 97.141\n",
            "Epoch 036: | Train Loss: 0.03481 | Val Loss: 0.07229 | Train Acc: 98.356| Val Acc: 97.295\n",
            "Epoch 037: | Train Loss: 0.03741 | Val Loss: 0.07434 | Train Acc: 98.282| Val Acc: 97.141\n",
            "Epoch 038: | Train Loss: 0.04035 | Val Loss: 0.07120 | Train Acc: 98.063| Val Acc: 97.846\n",
            "Epoch 039: | Train Loss: 0.04012 | Val Loss: 0.07790 | Train Acc: 98.103| Val Acc: 96.846\n",
            "Epoch 040: | Train Loss: 0.03693 | Val Loss: 0.07465 | Train Acc: 98.155| Val Acc: 97.308\n",
            "Epoch 041: | Train Loss: 0.03849 | Val Loss: 0.07398 | Train Acc: 98.126| Val Acc: 97.385\n",
            "Epoch 042: | Train Loss: 0.03515 | Val Loss: 0.07492 | Train Acc: 98.155| Val Acc: 97.231\n",
            "Epoch 043: | Train Loss: 0.04004 | Val Loss: 0.07330 | Train Acc: 98.023| Val Acc: 97.000\n",
            "Epoch 044: | Train Loss: 0.04090 | Val Loss: 0.07548 | Train Acc: 97.914| Val Acc: 97.077\n",
            "Epoch 045: | Train Loss: 0.04137 | Val Loss: 0.07767 | Train Acc: 98.057| Val Acc: 96.987\n",
            "Epoch 046: | Train Loss: 0.03781 | Val Loss: 0.07156 | Train Acc: 98.201| Val Acc: 97.538\n",
            "Epoch 047: | Train Loss: 0.04065 | Val Loss: 0.07538 | Train Acc: 97.983| Val Acc: 97.385\n",
            "Epoch 048: | Train Loss: 0.04093 | Val Loss: 0.07367 | Train Acc: 97.839| Val Acc: 97.359\n",
            "Epoch 049: | Train Loss: 0.03869 | Val Loss: 0.07589 | Train Acc: 98.109| Val Acc: 97.308\n",
            "Epoch 050: | Train Loss: 0.03846 | Val Loss: 0.07190 | Train Acc: 98.086| Val Acc: 97.385\n",
            "Epoch 051: | Train Loss: 0.03491 | Val Loss: 0.07344 | Train Acc: 98.362| Val Acc: 97.154\n",
            "Epoch 052: | Train Loss: 0.03648 | Val Loss: 0.06619 | Train Acc: 98.431| Val Acc: 97.615\n",
            "Epoch 053: | Train Loss: 0.03371 | Val Loss: 0.06671 | Train Acc: 98.362| Val Acc: 97.372\n",
            "Epoch 054: | Train Loss: 0.03712 | Val Loss: 0.07111 | Train Acc: 98.161| Val Acc: 97.141\n",
            "Epoch 055: | Train Loss: 0.03149 | Val Loss: 0.07037 | Train Acc: 98.431| Val Acc: 97.231\n",
            "Epoch 056: | Train Loss: 0.03442 | Val Loss: 0.07059 | Train Acc: 98.466| Val Acc: 97.615\n",
            "Epoch 057: | Train Loss: 0.03262 | Val Loss: 0.06584 | Train Acc: 98.437| Val Acc: 97.385\n",
            "Epoch 058: | Train Loss: 0.03433 | Val Loss: 0.06756 | Train Acc: 98.282| Val Acc: 97.538\n",
            "Epoch 059: | Train Loss: 0.03373 | Val Loss: 0.06776 | Train Acc: 98.276| Val Acc: 97.308\n",
            "Epoch 060: | Train Loss: 0.03698 | Val Loss: 0.06697 | Train Acc: 98.132| Val Acc: 97.538\n",
            "Epoch 061: | Train Loss: 0.03654 | Val Loss: 0.06558 | Train Acc: 98.362| Val Acc: 97.449\n",
            "Epoch 062: | Train Loss: 0.03174 | Val Loss: 0.06934 | Train Acc: 98.414| Val Acc: 97.615\n",
            "Epoch 063: | Train Loss: 0.03014 | Val Loss: 0.06791 | Train Acc: 98.747| Val Acc: 97.308\n",
            "Epoch 064: | Train Loss: 0.03209 | Val Loss: 0.06236 | Train Acc: 98.466| Val Acc: 97.769\n",
            "Epoch 065: | Train Loss: 0.02946 | Val Loss: 0.06496 | Train Acc: 98.592| Val Acc: 97.295\n",
            "Epoch 066: | Train Loss: 0.03022 | Val Loss: 0.06288 | Train Acc: 98.839| Val Acc: 97.449\n",
            "Epoch 067: | Train Loss: 0.03225 | Val Loss: 0.06392 | Train Acc: 98.517| Val Acc: 97.449\n",
            "Epoch 068: | Train Loss: 0.03481 | Val Loss: 0.06417 | Train Acc: 98.443| Val Acc: 97.679\n",
            "Epoch 069: | Train Loss: 0.02990 | Val Loss: 0.06235 | Train Acc: 98.609| Val Acc: 97.526\n",
            "Epoch 070: | Train Loss: 0.03137 | Val Loss: 0.06873 | Train Acc: 98.529| Val Acc: 97.308\n",
            "Epoch 071: | Train Loss: 0.03130 | Val Loss: 0.06081 | Train Acc: 98.569| Val Acc: 97.462\n",
            "Epoch 072: | Train Loss: 0.03024 | Val Loss: 0.06095 | Train Acc: 98.667| Val Acc: 97.615\n",
            "Epoch 073: | Train Loss: 0.02986 | Val Loss: 0.06209 | Train Acc: 98.506| Val Acc: 97.603\n",
            "Epoch 074: | Train Loss: 0.03049 | Val Loss: 0.06004 | Train Acc: 98.586| Val Acc: 97.526\n",
            "Epoch 075: | Train Loss: 0.03014 | Val Loss: 0.05994 | Train Acc: 98.557| Val Acc: 97.603\n",
            "Epoch 076: | Train Loss: 0.02635 | Val Loss: 0.06033 | Train Acc: 98.701| Val Acc: 97.615\n",
            "Epoch 077: | Train Loss: 0.02677 | Val Loss: 0.05534 | Train Acc: 98.851| Val Acc: 97.833\n",
            "Epoch 078: | Train Loss: 0.02546 | Val Loss: 0.05799 | Train Acc: 98.862| Val Acc: 97.769\n",
            "Epoch 079: | Train Loss: 0.02985 | Val Loss: 0.05692 | Train Acc: 98.626| Val Acc: 97.987\n",
            "Epoch 080: | Train Loss: 0.02640 | Val Loss: 0.05669 | Train Acc: 98.799| Val Acc: 97.833\n",
            "Epoch 081: | Train Loss: 0.02517 | Val Loss: 0.05579 | Train Acc: 98.937| Val Acc: 97.833\n",
            "Epoch 082: | Train Loss: 0.02444 | Val Loss: 0.05468 | Train Acc: 98.741| Val Acc: 98.064\n",
            "Epoch 083: | Train Loss: 0.02371 | Val Loss: 0.05152 | Train Acc: 98.764| Val Acc: 98.308\n",
            "Epoch 084: | Train Loss: 0.02319 | Val Loss: 0.05374 | Train Acc: 98.902| Val Acc: 97.833\n",
            "Epoch 085: | Train Loss: 0.02671 | Val Loss: 0.05567 | Train Acc: 98.667| Val Acc: 97.756\n",
            "Epoch 086: | Train Loss: 0.02244 | Val Loss: 0.05183 | Train Acc: 98.983| Val Acc: 98.000\n",
            "Epoch 087: | Train Loss: 0.02203 | Val Loss: 0.04969 | Train Acc: 99.011| Val Acc: 98.538\n",
            "Epoch 088: | Train Loss: 0.02337 | Val Loss: 0.05168 | Train Acc: 98.902| Val Acc: 98.077\n",
            "Epoch 089: | Train Loss: 0.02235 | Val Loss: 0.05167 | Train Acc: 99.086| Val Acc: 98.000\n",
            "Epoch 090: | Train Loss: 0.02264 | Val Loss: 0.04928 | Train Acc: 98.948| Val Acc: 98.077\n",
            "Epoch 091: | Train Loss: 0.02243 | Val Loss: 0.05049 | Train Acc: 99.029| Val Acc: 98.154\n",
            "Epoch 092: | Train Loss: 0.02143 | Val Loss: 0.05051 | Train Acc: 98.931| Val Acc: 98.154\n",
            "Epoch 093: | Train Loss: 0.02009 | Val Loss: 0.04979 | Train Acc: 99.167| Val Acc: 98.231\n",
            "Epoch 094: | Train Loss: 0.01900 | Val Loss: 0.04686 | Train Acc: 99.310| Val Acc: 98.231\n",
            "Epoch 095: | Train Loss: 0.01969 | Val Loss: 0.04567 | Train Acc: 99.075| Val Acc: 98.462\n",
            "Epoch 096: | Train Loss: 0.02260 | Val Loss: 0.04748 | Train Acc: 98.891| Val Acc: 98.231\n",
            "Epoch 097: | Train Loss: 0.02120 | Val Loss: 0.04611 | Train Acc: 99.172| Val Acc: 98.231\n",
            "Epoch 098: | Train Loss: 0.01956 | Val Loss: 0.04782 | Train Acc: 99.121| Val Acc: 98.231\n",
            "Epoch 099: | Train Loss: 0.01872 | Val Loss: 0.04554 | Train Acc: 99.109| Val Acc: 98.385\n",
            "Epoch 100: | Train Loss: 0.01871 | Val Loss: 0.04781 | Train Acc: 99.149| Val Acc: 98.308\n"
          ]
        },
        {
          "output_type": "error",
          "ename": "KeyboardInterrupt",
          "evalue": "ignored",
          "traceback": [
            "\u001b[0;31m---------------------------------------------------------------------------\u001b[0m",
            "\u001b[0;31mKeyboardInterrupt\u001b[0m                         Traceback (most recent call last)",
            "\u001b[0;32m<ipython-input-45-1e37faeae904>\u001b[0m in \u001b[0;36m<cell line: 1>\u001b[0;34m()\u001b[0m\n\u001b[1;32m     29\u001b[0m       \u001b[0mval_epoch_acc\u001b[0m \u001b[0;34m=\u001b[0m \u001b[0;36m0\u001b[0m\u001b[0;34m\u001b[0m\u001b[0;34m\u001b[0m\u001b[0m\n\u001b[1;32m     30\u001b[0m \u001b[0;34m\u001b[0m\u001b[0m\n\u001b[0;32m---> 31\u001b[0;31m       \u001b[0;32mfor\u001b[0m \u001b[0mX_val_batch\u001b[0m\u001b[0;34m,\u001b[0m \u001b[0my_val_batch\u001b[0m \u001b[0;32min\u001b[0m \u001b[0mval_loader\u001b[0m\u001b[0;34m:\u001b[0m\u001b[0;34m\u001b[0m\u001b[0;34m\u001b[0m\u001b[0m\n\u001b[0m\u001b[1;32m     32\u001b[0m \u001b[0;34m\u001b[0m\u001b[0m\n\u001b[1;32m     33\u001b[0m         \u001b[0mX_val_batch\u001b[0m\u001b[0;34m,\u001b[0m \u001b[0my_val_batch\u001b[0m \u001b[0;34m=\u001b[0m \u001b[0mX_val_batch\u001b[0m\u001b[0;34m.\u001b[0m\u001b[0mto\u001b[0m\u001b[0;34m(\u001b[0m\u001b[0mdevice\u001b[0m\u001b[0;34m)\u001b[0m\u001b[0;34m,\u001b[0m \u001b[0my_val_batch\u001b[0m\u001b[0;34m.\u001b[0m\u001b[0mto\u001b[0m\u001b[0;34m(\u001b[0m\u001b[0mdevice\u001b[0m\u001b[0;34m)\u001b[0m\u001b[0;34m\u001b[0m\u001b[0;34m\u001b[0m\u001b[0m\n",
            "\u001b[0;32m/usr/local/lib/python3.10/dist-packages/torch/utils/data/dataloader.py\u001b[0m in \u001b[0;36m__next__\u001b[0;34m(self)\u001b[0m\n\u001b[1;32m    628\u001b[0m                 \u001b[0;31m# TODO(https://github.com/pytorch/pytorch/issues/76750)\u001b[0m\u001b[0;34m\u001b[0m\u001b[0;34m\u001b[0m\u001b[0m\n\u001b[1;32m    629\u001b[0m                 \u001b[0mself\u001b[0m\u001b[0;34m.\u001b[0m\u001b[0m_reset\u001b[0m\u001b[0;34m(\u001b[0m\u001b[0;34m)\u001b[0m  \u001b[0;31m# type: ignore[call-arg]\u001b[0m\u001b[0;34m\u001b[0m\u001b[0;34m\u001b[0m\u001b[0m\n\u001b[0;32m--> 630\u001b[0;31m             \u001b[0mdata\u001b[0m \u001b[0;34m=\u001b[0m \u001b[0mself\u001b[0m\u001b[0;34m.\u001b[0m\u001b[0m_next_data\u001b[0m\u001b[0;34m(\u001b[0m\u001b[0;34m)\u001b[0m\u001b[0;34m\u001b[0m\u001b[0;34m\u001b[0m\u001b[0m\n\u001b[0m\u001b[1;32m    631\u001b[0m             \u001b[0mself\u001b[0m\u001b[0;34m.\u001b[0m\u001b[0m_num_yielded\u001b[0m \u001b[0;34m+=\u001b[0m \u001b[0;36m1\u001b[0m\u001b[0;34m\u001b[0m\u001b[0;34m\u001b[0m\u001b[0m\n\u001b[1;32m    632\u001b[0m             \u001b[0;32mif\u001b[0m \u001b[0mself\u001b[0m\u001b[0;34m.\u001b[0m\u001b[0m_dataset_kind\u001b[0m \u001b[0;34m==\u001b[0m \u001b[0m_DatasetKind\u001b[0m\u001b[0;34m.\u001b[0m\u001b[0mIterable\u001b[0m \u001b[0;32mand\u001b[0m\u001b[0;31m \u001b[0m\u001b[0;31m\\\u001b[0m\u001b[0;34m\u001b[0m\u001b[0;34m\u001b[0m\u001b[0m\n",
            "\u001b[0;32m/usr/local/lib/python3.10/dist-packages/torch/utils/data/dataloader.py\u001b[0m in \u001b[0;36m_next_data\u001b[0;34m(self)\u001b[0m\n\u001b[1;32m    672\u001b[0m     \u001b[0;32mdef\u001b[0m \u001b[0m_next_data\u001b[0m\u001b[0;34m(\u001b[0m\u001b[0mself\u001b[0m\u001b[0;34m)\u001b[0m\u001b[0;34m:\u001b[0m\u001b[0;34m\u001b[0m\u001b[0;34m\u001b[0m\u001b[0m\n\u001b[1;32m    673\u001b[0m         \u001b[0mindex\u001b[0m \u001b[0;34m=\u001b[0m \u001b[0mself\u001b[0m\u001b[0;34m.\u001b[0m\u001b[0m_next_index\u001b[0m\u001b[0;34m(\u001b[0m\u001b[0;34m)\u001b[0m  \u001b[0;31m# may raise StopIteration\u001b[0m\u001b[0;34m\u001b[0m\u001b[0;34m\u001b[0m\u001b[0m\n\u001b[0;32m--> 674\u001b[0;31m         \u001b[0mdata\u001b[0m \u001b[0;34m=\u001b[0m \u001b[0mself\u001b[0m\u001b[0;34m.\u001b[0m\u001b[0m_dataset_fetcher\u001b[0m\u001b[0;34m.\u001b[0m\u001b[0mfetch\u001b[0m\u001b[0;34m(\u001b[0m\u001b[0mindex\u001b[0m\u001b[0;34m)\u001b[0m  \u001b[0;31m# may raise StopIteration\u001b[0m\u001b[0;34m\u001b[0m\u001b[0;34m\u001b[0m\u001b[0m\n\u001b[0m\u001b[1;32m    675\u001b[0m         \u001b[0;32mif\u001b[0m \u001b[0mself\u001b[0m\u001b[0;34m.\u001b[0m\u001b[0m_pin_memory\u001b[0m\u001b[0;34m:\u001b[0m\u001b[0;34m\u001b[0m\u001b[0;34m\u001b[0m\u001b[0m\n\u001b[1;32m    676\u001b[0m             \u001b[0mdata\u001b[0m \u001b[0;34m=\u001b[0m \u001b[0m_utils\u001b[0m\u001b[0;34m.\u001b[0m\u001b[0mpin_memory\u001b[0m\u001b[0;34m.\u001b[0m\u001b[0mpin_memory\u001b[0m\u001b[0;34m(\u001b[0m\u001b[0mdata\u001b[0m\u001b[0;34m,\u001b[0m \u001b[0mself\u001b[0m\u001b[0;34m.\u001b[0m\u001b[0m_pin_memory_device\u001b[0m\u001b[0;34m)\u001b[0m\u001b[0;34m\u001b[0m\u001b[0;34m\u001b[0m\u001b[0m\n",
            "\u001b[0;32m/usr/local/lib/python3.10/dist-packages/torch/utils/data/_utils/fetch.py\u001b[0m in \u001b[0;36mfetch\u001b[0;34m(self, possibly_batched_index)\u001b[0m\n\u001b[1;32m     52\u001b[0m         \u001b[0;32melse\u001b[0m\u001b[0;34m:\u001b[0m\u001b[0;34m\u001b[0m\u001b[0;34m\u001b[0m\u001b[0m\n\u001b[1;32m     53\u001b[0m             \u001b[0mdata\u001b[0m \u001b[0;34m=\u001b[0m \u001b[0mself\u001b[0m\u001b[0;34m.\u001b[0m\u001b[0mdataset\u001b[0m\u001b[0;34m[\u001b[0m\u001b[0mpossibly_batched_index\u001b[0m\u001b[0;34m]\u001b[0m\u001b[0;34m\u001b[0m\u001b[0;34m\u001b[0m\u001b[0m\n\u001b[0;32m---> 54\u001b[0;31m         \u001b[0;32mreturn\u001b[0m \u001b[0mself\u001b[0m\u001b[0;34m.\u001b[0m\u001b[0mcollate_fn\u001b[0m\u001b[0;34m(\u001b[0m\u001b[0mdata\u001b[0m\u001b[0;34m)\u001b[0m\u001b[0;34m\u001b[0m\u001b[0;34m\u001b[0m\u001b[0m\n\u001b[0m",
            "\u001b[0;32m/usr/local/lib/python3.10/dist-packages/torch/utils/data/_utils/collate.py\u001b[0m in \u001b[0;36mdefault_collate\u001b[0;34m(batch)\u001b[0m\n\u001b[1;32m    263\u001b[0m             \u001b[0;34m>>\u001b[0m\u001b[0;34m>\u001b[0m \u001b[0mdefault_collate\u001b[0m\u001b[0;34m(\u001b[0m\u001b[0mbatch\u001b[0m\u001b[0;34m)\u001b[0m  \u001b[0;31m# Handle `CustomType` automatically\u001b[0m\u001b[0;34m\u001b[0m\u001b[0;34m\u001b[0m\u001b[0m\n\u001b[1;32m    264\u001b[0m     \"\"\"\n\u001b[0;32m--> 265\u001b[0;31m     \u001b[0;32mreturn\u001b[0m \u001b[0mcollate\u001b[0m\u001b[0;34m(\u001b[0m\u001b[0mbatch\u001b[0m\u001b[0;34m,\u001b[0m \u001b[0mcollate_fn_map\u001b[0m\u001b[0;34m=\u001b[0m\u001b[0mdefault_collate_fn_map\u001b[0m\u001b[0;34m)\u001b[0m\u001b[0;34m\u001b[0m\u001b[0;34m\u001b[0m\u001b[0m\n\u001b[0m",
            "\u001b[0;32m/usr/local/lib/python3.10/dist-packages/torch/utils/data/_utils/collate.py\u001b[0m in \u001b[0;36mcollate\u001b[0;34m(batch, collate_fn_map)\u001b[0m\n\u001b[1;32m    140\u001b[0m \u001b[0;34m\u001b[0m\u001b[0m\n\u001b[1;32m    141\u001b[0m         \u001b[0;32mif\u001b[0m \u001b[0misinstance\u001b[0m\u001b[0;34m(\u001b[0m\u001b[0melem\u001b[0m\u001b[0;34m,\u001b[0m \u001b[0mtuple\u001b[0m\u001b[0;34m)\u001b[0m\u001b[0;34m:\u001b[0m\u001b[0;34m\u001b[0m\u001b[0;34m\u001b[0m\u001b[0m\n\u001b[0;32m--> 142\u001b[0;31m             \u001b[0;32mreturn\u001b[0m \u001b[0;34m[\u001b[0m\u001b[0mcollate\u001b[0m\u001b[0;34m(\u001b[0m\u001b[0msamples\u001b[0m\u001b[0;34m,\u001b[0m \u001b[0mcollate_fn_map\u001b[0m\u001b[0;34m=\u001b[0m\u001b[0mcollate_fn_map\u001b[0m\u001b[0;34m)\u001b[0m \u001b[0;32mfor\u001b[0m \u001b[0msamples\u001b[0m \u001b[0;32min\u001b[0m \u001b[0mtransposed\u001b[0m\u001b[0;34m]\u001b[0m  \u001b[0;31m# Backwards compatibility.\u001b[0m\u001b[0;34m\u001b[0m\u001b[0;34m\u001b[0m\u001b[0m\n\u001b[0m\u001b[1;32m    143\u001b[0m         \u001b[0;32melse\u001b[0m\u001b[0;34m:\u001b[0m\u001b[0;34m\u001b[0m\u001b[0;34m\u001b[0m\u001b[0m\n\u001b[1;32m    144\u001b[0m             \u001b[0;32mtry\u001b[0m\u001b[0;34m:\u001b[0m\u001b[0;34m\u001b[0m\u001b[0;34m\u001b[0m\u001b[0m\n",
            "\u001b[0;32m/usr/local/lib/python3.10/dist-packages/torch/utils/data/_utils/collate.py\u001b[0m in \u001b[0;36m<listcomp>\u001b[0;34m(.0)\u001b[0m\n\u001b[1;32m    140\u001b[0m \u001b[0;34m\u001b[0m\u001b[0m\n\u001b[1;32m    141\u001b[0m         \u001b[0;32mif\u001b[0m \u001b[0misinstance\u001b[0m\u001b[0;34m(\u001b[0m\u001b[0melem\u001b[0m\u001b[0;34m,\u001b[0m \u001b[0mtuple\u001b[0m\u001b[0;34m)\u001b[0m\u001b[0;34m:\u001b[0m\u001b[0;34m\u001b[0m\u001b[0;34m\u001b[0m\u001b[0m\n\u001b[0;32m--> 142\u001b[0;31m             \u001b[0;32mreturn\u001b[0m \u001b[0;34m[\u001b[0m\u001b[0mcollate\u001b[0m\u001b[0;34m(\u001b[0m\u001b[0msamples\u001b[0m\u001b[0;34m,\u001b[0m \u001b[0mcollate_fn_map\u001b[0m\u001b[0;34m=\u001b[0m\u001b[0mcollate_fn_map\u001b[0m\u001b[0;34m)\u001b[0m \u001b[0;32mfor\u001b[0m \u001b[0msamples\u001b[0m \u001b[0;32min\u001b[0m \u001b[0mtransposed\u001b[0m\u001b[0;34m]\u001b[0m  \u001b[0;31m# Backwards compatibility.\u001b[0m\u001b[0;34m\u001b[0m\u001b[0;34m\u001b[0m\u001b[0m\n\u001b[0m\u001b[1;32m    143\u001b[0m         \u001b[0;32melse\u001b[0m\u001b[0;34m:\u001b[0m\u001b[0;34m\u001b[0m\u001b[0;34m\u001b[0m\u001b[0m\n\u001b[1;32m    144\u001b[0m             \u001b[0;32mtry\u001b[0m\u001b[0;34m:\u001b[0m\u001b[0;34m\u001b[0m\u001b[0;34m\u001b[0m\u001b[0m\n",
            "\u001b[0;32m/usr/local/lib/python3.10/dist-packages/torch/utils/data/_utils/collate.py\u001b[0m in \u001b[0;36mcollate\u001b[0;34m(batch, collate_fn_map)\u001b[0m\n\u001b[1;32m    117\u001b[0m     \u001b[0;32mif\u001b[0m \u001b[0mcollate_fn_map\u001b[0m \u001b[0;32mis\u001b[0m \u001b[0;32mnot\u001b[0m \u001b[0;32mNone\u001b[0m\u001b[0;34m:\u001b[0m\u001b[0;34m\u001b[0m\u001b[0;34m\u001b[0m\u001b[0m\n\u001b[1;32m    118\u001b[0m         \u001b[0;32mif\u001b[0m \u001b[0melem_type\u001b[0m \u001b[0;32min\u001b[0m \u001b[0mcollate_fn_map\u001b[0m\u001b[0;34m:\u001b[0m\u001b[0;34m\u001b[0m\u001b[0;34m\u001b[0m\u001b[0m\n\u001b[0;32m--> 119\u001b[0;31m             \u001b[0;32mreturn\u001b[0m \u001b[0mcollate_fn_map\u001b[0m\u001b[0;34m[\u001b[0m\u001b[0melem_type\u001b[0m\u001b[0;34m]\u001b[0m\u001b[0;34m(\u001b[0m\u001b[0mbatch\u001b[0m\u001b[0;34m,\u001b[0m \u001b[0mcollate_fn_map\u001b[0m\u001b[0;34m=\u001b[0m\u001b[0mcollate_fn_map\u001b[0m\u001b[0;34m)\u001b[0m\u001b[0;34m\u001b[0m\u001b[0;34m\u001b[0m\u001b[0m\n\u001b[0m\u001b[1;32m    120\u001b[0m \u001b[0;34m\u001b[0m\u001b[0m\n\u001b[1;32m    121\u001b[0m         \u001b[0;32mfor\u001b[0m \u001b[0mcollate_type\u001b[0m \u001b[0;32min\u001b[0m \u001b[0mcollate_fn_map\u001b[0m\u001b[0;34m:\u001b[0m\u001b[0;34m\u001b[0m\u001b[0;34m\u001b[0m\u001b[0m\n",
            "\u001b[0;32m/usr/local/lib/python3.10/dist-packages/torch/utils/data/_utils/collate.py\u001b[0m in \u001b[0;36mcollate_tensor_fn\u001b[0;34m(batch, collate_fn_map)\u001b[0m\n\u001b[1;32m    160\u001b[0m         \u001b[0mstorage\u001b[0m \u001b[0;34m=\u001b[0m \u001b[0melem\u001b[0m\u001b[0;34m.\u001b[0m\u001b[0m_typed_storage\u001b[0m\u001b[0;34m(\u001b[0m\u001b[0;34m)\u001b[0m\u001b[0;34m.\u001b[0m\u001b[0m_new_shared\u001b[0m\u001b[0;34m(\u001b[0m\u001b[0mnumel\u001b[0m\u001b[0;34m,\u001b[0m \u001b[0mdevice\u001b[0m\u001b[0;34m=\u001b[0m\u001b[0melem\u001b[0m\u001b[0;34m.\u001b[0m\u001b[0mdevice\u001b[0m\u001b[0;34m)\u001b[0m\u001b[0;34m\u001b[0m\u001b[0;34m\u001b[0m\u001b[0m\n\u001b[1;32m    161\u001b[0m         \u001b[0mout\u001b[0m \u001b[0;34m=\u001b[0m \u001b[0melem\u001b[0m\u001b[0;34m.\u001b[0m\u001b[0mnew\u001b[0m\u001b[0;34m(\u001b[0m\u001b[0mstorage\u001b[0m\u001b[0;34m)\u001b[0m\u001b[0;34m.\u001b[0m\u001b[0mresize_\u001b[0m\u001b[0;34m(\u001b[0m\u001b[0mlen\u001b[0m\u001b[0;34m(\u001b[0m\u001b[0mbatch\u001b[0m\u001b[0;34m)\u001b[0m\u001b[0;34m,\u001b[0m \u001b[0;34m*\u001b[0m\u001b[0mlist\u001b[0m\u001b[0;34m(\u001b[0m\u001b[0melem\u001b[0m\u001b[0;34m.\u001b[0m\u001b[0msize\u001b[0m\u001b[0;34m(\u001b[0m\u001b[0;34m)\u001b[0m\u001b[0;34m)\u001b[0m\u001b[0;34m)\u001b[0m\u001b[0;34m\u001b[0m\u001b[0;34m\u001b[0m\u001b[0m\n\u001b[0;32m--> 162\u001b[0;31m     \u001b[0;32mreturn\u001b[0m \u001b[0mtorch\u001b[0m\u001b[0;34m.\u001b[0m\u001b[0mstack\u001b[0m\u001b[0;34m(\u001b[0m\u001b[0mbatch\u001b[0m\u001b[0;34m,\u001b[0m \u001b[0;36m0\u001b[0m\u001b[0;34m,\u001b[0m \u001b[0mout\u001b[0m\u001b[0;34m=\u001b[0m\u001b[0mout\u001b[0m\u001b[0;34m)\u001b[0m\u001b[0;34m\u001b[0m\u001b[0;34m\u001b[0m\u001b[0m\n\u001b[0m\u001b[1;32m    163\u001b[0m \u001b[0;34m\u001b[0m\u001b[0m\n\u001b[1;32m    164\u001b[0m \u001b[0;34m\u001b[0m\u001b[0m\n",
            "\u001b[0;31mKeyboardInterrupt\u001b[0m: "
          ]
        }
      ],
      "source": [
        "\n",
        "for epoch in tqdm(range(1,EPOCHS+1)):\n",
        "\n",
        "  train_epoch_loss = 0\n",
        "  train_epoch_acc = 0\n",
        "\n",
        "  model.train()\n",
        "  for X_train_batch, y_train_batch in train_loader:\n",
        "\n",
        "     X_train_batch, y_train_batch = X_train_batch.to(device), y_train_batch.to(device)\n",
        "\n",
        "     optimizer.zero_grad()\n",
        "\n",
        "     y_train_pred = model(X_train_batch)\n",
        "\n",
        "     train_loss = loss_fn(y_train_pred, y_train_batch)\n",
        "     train_acc = multi_acc(y_train_pred,y_train_batch)\n",
        "\n",
        "     train_loss.backward()\n",
        "     optimizer.step()\n",
        "\n",
        "     train_epoch_loss += train_loss.item()\n",
        "     train_epoch_acc += train_acc.item()\n",
        "\n",
        "     model.eval()\n",
        "\n",
        "     with torch.inference_mode():\n",
        "\n",
        "      val_epoch_loss = 0\n",
        "      val_epoch_acc = 0\n",
        "\n",
        "      for X_val_batch, y_val_batch in val_loader:\n",
        "\n",
        "        X_val_batch, y_val_batch = X_val_batch.to(device), y_val_batch.to(device)\n",
        "\n",
        "        y_val_pred = model(X_val_batch)\n",
        "\n",
        "        val_loss = loss_fn(y_val_pred, y_val_batch)\n",
        "        val_acc = multi_acc(y_val_pred, y_val_batch)\n",
        "\n",
        "        val_epoch_loss += val_loss.item()\n",
        "        val_epoch_acc += val_acc.item()\n",
        "\n",
        "  loss_stats['train'].append(train_epoch_loss/len(train_loader))\n",
        "  loss_stats['val'].append(val_epoch_loss/len(val_loader))\n",
        "  accuracy_stats['train'].append(train_epoch_acc/len(train_loader))\n",
        "  accuracy_stats['val'].append(val_epoch_acc/len(val_loader))\n",
        "\n",
        "  print(f'Epoch {epoch+0:03}: | Train Loss: {train_epoch_loss/len(train_loader):.5f} | Val Loss: {val_epoch_loss/len(val_loader):.5f} | Train Acc: {train_epoch_acc/len(train_loader):.3f}| Val Acc: {val_epoch_acc/len(val_loader):.3f}')"
      ]
    },
    {
      "cell_type": "code",
      "source": [
        "accuracy_stats['train']"
      ],
      "metadata": {
        "colab": {
          "base_uri": "https://localhost:8080/"
        },
        "id": "8N-Ie1BKsrAR",
        "outputId": "91803e5d-a033-4e3e-d893-d8c1d93cf7e7"
      },
      "execution_count": 39,
      "outputs": [
        {
          "output_type": "execute_result",
          "data": {
            "text/plain": [
              "[50.12068965517241,\n",
              " 71.00574712643679,\n",
              " 83.1264367816092,\n",
              " 87.3103448275862,\n",
              " 89.00574712643679,\n",
              " 90.91954022988506,\n",
              " 91.97126436781609,\n",
              " 92.87931034482759]"
            ]
          },
          "metadata": {},
          "execution_count": 39
        }
      ]
    },
    {
      "cell_type": "code",
      "execution_count": 46,
      "metadata": {
        "colab": {
          "base_uri": "https://localhost:8080/",
          "height": 546
        },
        "id": "q9A732RhbZrK",
        "outputId": "23d05f6f-9335-49e4-d450-c701994d05a9"
      },
      "outputs": [
        {
          "output_type": "execute_result",
          "data": {
            "text/plain": [
              "Text(0.5, 1.0, 'Train-Val Loss/Epoch')"
            ]
          },
          "metadata": {},
          "execution_count": 46
        },
        {
          "output_type": "display_data",
          "data": {
            "text/plain": [
              "<Figure size 2000x700 with 2 Axes>"
            ],
            "image/png": "[encoded data removed]"
          },
          "metadata": {}
        }
      ],
      "source": [
        "train_val_acc_df = pd.DataFrame.from_dict(accuracy_stats).reset_index().melt(id_vars=['index']).rename(columns={\"index\":\"epochs\"})\n",
        "train_val_loss_df = pd.DataFrame.from_dict(loss_stats).reset_index().melt(id_vars=['index']).rename(columns={\"index\":\"epochs\"})\n",
        "# Plot the dataframes\n",
        "fig, axes = plt.subplots(nrows=1, ncols=2, figsize=(20,7))\n",
        "sns.lineplot(data=train_val_acc_df, x = \"epochs\", y=\"value\", hue=\"variable\",  ax=axes[0]).set_title('Train-Val Accuracy/Epoch')\n",
        "sns.lineplot(data=train_val_loss_df, x = \"epochs\", y=\"value\", hue=\"variable\", ax=axes[1]).set_title('Train-Val Loss/Epoch')"
      ]
    },
    {
      "cell_type": "code",
      "execution_count": 47,
      "metadata": {
        "id": "j_kHXbBkl9xq"
      },
      "outputs": [],
      "source": [
        "torch.save(model.state_dict(), 'LOSModel2.pt')"
      ]
    },
    {
      "cell_type": "markdown",
      "metadata": {
        "id": "GYrkx-g984SQ"
      },
      "source": [
        "# Test"
      ]
    },
    {
      "cell_type": "code",
      "execution_count": 121,
      "metadata": {
        "id": "knPww-nCygP2"
      },
      "outputs": [],
      "source": [
        "model1 = LOSClassification()\n",
        "model1.load_state_dict(torch.load('drive/MyDrive/DSPRO/LOSModel2.pt'))\n",
        "\n",
        "y_test_pred_list = []\n",
        "\n",
        "model1.eval()\n",
        "\n",
        "with torch.inference_mode():\n",
        "  for X_batch, _ in test_loader:\n",
        "    X_batch = X_batch.to(device)\n",
        "    y_test_pred = model1(X_batch)\n",
        "\n",
        "    for preds in y_test_pred:\n",
        "      _,y_pred_tags = torch.max(preds,dim=0)\n",
        "      y_test_pred_list.append(y_pred_tags.cpu().numpy().squeeze())\n",
        "\n",
        "y_test_pred_list = [a.squeeze().tolist() for a in y_test_pred_list]"
      ]
    },
    {
      "cell_type": "code",
      "execution_count": 124,
      "metadata": {
        "colab": {
          "base_uri": "https://localhost:8080/"
        },
        "id": "aMwHQgb4yZVT",
        "outputId": "2e19cff9-802b-4164-f57d-d4e66c6c37cc"
      },
      "outputs": [
        {
          "output_type": "execute_result",
          "data": {
            "text/plain": [
              "[2, 1, 0, 1, 2, 0, 1, 0, 0, 1, 0, 1, 0, 0, 0]"
            ]
          },
          "metadata": {},
          "execution_count": 124
        }
      ],
      "source": [
        "y_test_pred_list[:15]"
      ]
    },
    {
      "cell_type": "code",
      "execution_count": 126,
      "metadata": {
        "colab": {
          "base_uri": "https://localhost:8080/"
        },
        "id": "rLrXivXIz5nF",
        "outputId": "106cbc22-532c-4375-f8dc-30ae5ab0c475"
      },
      "outputs": [
        {
          "output_type": "execute_result",
          "data": {
            "text/plain": [
              "array([2, 1, 0, 1, 2, 0, 1, 0, 0, 1, 0, 1, 0, 0, 0])"
            ]
          },
          "metadata": {},
          "execution_count": 126
        }
      ],
      "source": [
        "y_test[:15]"
      ]
    },
    {
      "cell_type": "code",
      "execution_count": 127,
      "metadata": {
        "colab": {
          "base_uri": "https://localhost:8080/",
          "height": 448
        },
        "id": "i6Ab2mVUBan3",
        "outputId": "f199688c-9f10-4086-9ee0-26ed84c79923"
      },
      "outputs": [
        {
          "output_type": "execute_result",
          "data": {
            "text/plain": [
              "<Axes: >"
            ]
          },
          "metadata": {},
          "execution_count": 127
        },
        {
          "output_type": "display_data",
          "data": {
            "text/plain": [
              "<Figure size 640x480 with 2 Axes>"
            ],
            "image/png": "[encoded data removed]"
          },
          "metadata": {}
        }
      ],
      "source": [
        "confusion_matrix_df=pd.DataFrame(confusion_matrix(y_test,y_test_pred_list))\n",
        "sns.heatmap(confusion_matrix_df, annot=True,fmt=\"d\")"
      ]
    },
    {
      "cell_type": "code",
      "execution_count": 128,
      "metadata": {
        "colab": {
          "base_uri": "https://localhost:8080/"
        },
        "id": "eSQwq0DFHg_S",
        "outputId": "dc68d83c-7c03-43ca-d536-2e60bf6b56c5"
      },
      "outputs": [
        {
          "output_type": "stream",
          "name": "stdout",
          "text": [
            "              precision    recall  f1-score   support\n",
            "\n",
            "           0       0.99      1.00      0.99      1653\n",
            "           1       0.99      0.96      0.98      1145\n",
            "           2       0.93      0.99      0.96       284\n",
            "\n",
            "    accuracy                           0.98      3082\n",
            "   macro avg       0.97      0.98      0.98      3082\n",
            "weighted avg       0.99      0.98      0.98      3082\n",
            "\n"
          ]
        }
      ],
      "source": [
        "print(classification_report(y_test,y_test_pred_list))"
      ]
    },
    {
      "cell_type": "code",
      "execution_count": null,
      "metadata": {
        "id": "eRkOrQdZIjaq"
      },
      "outputs": [],
      "source": []
    }
  ],
  "metadata": {
    "colab": {
      "provenance": []
    },
    "kernelspec": {
      "display_name": "Python 3",
      "name": "python3"
    },
    "language_info": {
      "name": "python"
    },
    "widgets": {
      "application/vnd.jupyter.widget-state+json": {
        "552fa22ef70f424db3a1b09048ff3ee2": {
          "model_module": "@jupyter-widgets/controls",
          "model_name": "HBoxModel",
          "model_module_version": "1.5.0",
          "state": {
            "_dom_classes": [],
            "_model_module": "@jupyter-widgets/controls",
            "_model_module_version": "1.5.0",
            "_model_name": "HBoxModel",
            "_view_count": null,
            "_view_module": "@jupyter-widgets/controls",
            "_view_module_version": "1.5.0",
            "_view_name": "HBoxView",
            "box_style": "",
            "children": [
              "IPY_MODEL_37fceea5284749f0876c8621ff4a78a5",
              "IPY_MODEL_45f6999638f9408f94b7e0f7fad99e0d",
              "IPY_MODEL_d8330c0ada204e708f57431dce12e28d"
            ],
            "layout": "IPY_MODEL_4d8605771b4f49139e127e94b802da3f"
          }
        },
        "37fceea5284749f0876c8621ff4a78a5": {
          "model_module": "@jupyter-widgets/controls",
          "model_name": "HTMLModel",
          "model_module_version": "1.5.0",
          "state": {
            "_dom_classes": [],
            "_model_module": "@jupyter-widgets/controls",
            "_model_module_version": "1.5.0",
            "_model_name": "HTMLModel",
            "_view_count": null,
            "_view_module": "@jupyter-widgets/controls",
            "_view_module_version": "1.5.0",
            "_view_name": "HTMLView",
            "description": "",
            "description_tooltip": null,
            "layout": "IPY_MODEL_2b1cac695fd94382aed0e671f23fc7a7",
            "placeholder": "​",
            "style": "IPY_MODEL_9551d727f0b8436492f9a99ba9461d86",
            "value": " 33%"
          }
        },
        "45f6999638f9408f94b7e0f7fad99e0d": {
          "model_module": "@jupyter-widgets/controls",
          "model_name": "FloatProgressModel",
          "model_module_version": "1.5.0",
          "state": {
            "_dom_classes": [],
            "_model_module": "@jupyter-widgets/controls",
            "_model_module_version": "1.5.0",
            "_model_name": "FloatProgressModel",
            "_view_count": null,
            "_view_module": "@jupyter-widgets/controls",
            "_view_module_version": "1.5.0",
            "_view_name": "ProgressView",
            "bar_style": "danger",
            "description": "",
            "description_tooltip": null,
            "layout": "IPY_MODEL_bde46944410e4dd79b00d90aaeb0aa8e",
            "max": 300,
            "min": 0,
            "orientation": "horizontal",
            "style": "IPY_MODEL_aa86769662264cffa6d79d479e3f8997",
            "value": 100
          }
        },
        "d8330c0ada204e708f57431dce12e28d": {
          "model_module": "@jupyter-widgets/controls",
          "model_name": "HTMLModel",
          "model_module_version": "1.5.0",
          "state": {
            "_dom_classes": [],
            "_model_module": "@jupyter-widgets/controls",
            "_model_module_version": "1.5.0",
            "_model_name": "HTMLModel",
            "_view_count": null,
            "_view_module": "@jupyter-widgets/controls",
            "_view_module_version": "1.5.0",
            "_view_name": "HTMLView",
            "description": "",
            "description_tooltip": null,
            "layout": "IPY_MODEL_584125cd47aa4ddd8185cb9c5906a17f",
            "placeholder": "​",
            "style": "IPY_MODEL_b8c06e94b8964120bcc9fe48a4d9b342",
            "value": " 100/300 [11:05&lt;22:10,  6.65s/it]"
          }
        },
        "4d8605771b4f49139e127e94b802da3f": {
          "model_module": "@jupyter-widgets/base",
          "model_name": "LayoutModel",
          "model_module_version": "1.2.0",
          "state": {
            "_model_module": "@jupyter-widgets/base",
            "_model_module_version": "1.2.0",
            "_model_name": "LayoutModel",
            "_view_count": null,
            "_view_module": "@jupyter-widgets/base",
            "_view_module_version": "1.2.0",
            "_view_name": "LayoutView",
            "align_content": null,
            "align_items": null,
            "align_self": null,
            "border": null,
            "bottom": null,
            "display": null,
            "flex": null,
            "flex_flow": null,
            "grid_area": null,
            "grid_auto_columns": null,
            "grid_auto_flow": null,
            "grid_auto_rows": null,
            "grid_column": null,
            "grid_gap": null,
            "grid_row": null,
            "grid_template_areas": null,
            "grid_template_columns": null,
            "grid_template_rows": null,
            "height": null,
            "justify_content": null,
            "justify_items": null,
            "left": null,
            "margin": null,
            "max_height": null,
            "max_width": null,
            "min_height": null,
            "min_width": null,
            "object_fit": null,
            "object_position": null,
            "order": null,
            "overflow": null,
            "overflow_x": null,
            "overflow_y": null,
            "padding": null,
            "right": null,
            "top": null,
            "visibility": null,
            "width": null
          }
        },
        "2b1cac695fd94382aed0e671f23fc7a7": {
          "model_module": "@jupyter-widgets/base",
          "model_name": "LayoutModel",
          "model_module_version": "1.2.0",
          "state": {
            "_model_module": "@jupyter-widgets/base",
            "_model_module_version": "1.2.0",
            "_model_name": "LayoutModel",
            "_view_count": null,
            "_view_module": "@jupyter-widgets/base",
            "_view_module_version": "1.2.0",
            "_view_name": "LayoutView",
            "align_content": null,
            "align_items": null,
            "align_self": null,
            "border": null,
            "bottom": null,
            "display": null,
            "flex": null,
            "flex_flow": null,
            "grid_area": null,
            "grid_auto_columns": null,
            "grid_auto_flow": null,
            "grid_auto_rows": null,
            "grid_column": null,
            "grid_gap": null,
            "grid_row": null,
            "grid_template_areas": null,
            "grid_template_columns": null,
            "grid_template_rows": null,
            "height": null,
            "justify_content": null,
            "justify_items": null,
            "left": null,
            "margin": null,
            "max_height": null,
            "max_width": null,
            "min_height": null,
            "min_width": null,
            "object_fit": null,
            "object_position": null,
            "order": null,
            "overflow": null,
            "overflow_x": null,
            "overflow_y": null,
            "padding": null,
            "right": null,
            "top": null,
            "visibility": null,
            "width": null
          }
        },
        "9551d727f0b8436492f9a99ba9461d86": {
          "model_module": "@jupyter-widgets/controls",
          "model_name": "DescriptionStyleModel",
          "model_module_version": "1.5.0",
          "state": {
            "_model_module": "@jupyter-widgets/controls",
            "_model_module_version": "1.5.0",
            "_model_name": "DescriptionStyleModel",
            "_view_count": null,
            "_view_module": "@jupyter-widgets/base",
            "_view_module_version": "1.2.0",
            "_view_name": "StyleView",
            "description_width": ""
          }
        },
        "bde46944410e4dd79b00d90aaeb0aa8e": {
          "model_module": "@jupyter-widgets/base",
          "model_name": "LayoutModel",
          "model_module_version": "1.2.0",
          "state": {
            "_model_module": "@jupyter-widgets/base",
            "_model_module_version": "1.2.0",
            "_model_name": "LayoutModel",
            "_view_count": null,
            "_view_module": "@jupyter-widgets/base",
            "_view_module_version": "1.2.0",
            "_view_name": "LayoutView",
            "align_content": null,
            "align_items": null,
            "align_self": null,
            "border": null,
            "bottom": null,
            "display": null,
            "flex": null,
            "flex_flow": null,
            "grid_area": null,
            "grid_auto_columns": null,
            "grid_auto_flow": null,
            "grid_auto_rows": null,
            "grid_column": null,
            "grid_gap": null,
            "grid_row": null,
            "grid_template_areas": null,
            "grid_template_columns": null,
            "grid_template_rows": null,
            "height": null,
            "justify_content": null,
            "justify_items": null,
            "left": null,
            "margin": null,
            "max_height": null,
            "max_width": null,
            "min_height": null,
            "min_width": null,
            "object_fit": null,
            "object_position": null,
            "order": null,
            "overflow": null,
            "overflow_x": null,
            "overflow_y": null,
            "padding": null,
            "right": null,
            "top": null,
            "visibility": null,
            "width": null
          }
        },
        "aa86769662264cffa6d79d479e3f8997": {
          "model_module": "@jupyter-widgets/controls",
          "model_name": "ProgressStyleModel",
          "model_module_version": "1.5.0",
          "state": {
            "_model_module": "@jupyter-widgets/controls",
            "_model_module_version": "1.5.0",
            "_model_name": "ProgressStyleModel",
            "_view_count": null,
            "_view_module": "@jupyter-widgets/base",
            "_view_module_version": "1.2.0",
            "_view_name": "StyleView",
            "bar_color": null,
            "description_width": ""
          }
        },
        "584125cd47aa4ddd8185cb9c5906a17f": {
          "model_module": "@jupyter-widgets/base",
          "model_name": "LayoutModel",
          "model_module_version": "1.2.0",
          "state": {
            "_model_module": "@jupyter-widgets/base",
            "_model_module_version": "1.2.0",
            "_model_name": "LayoutModel",
            "_view_count": null,
            "_view_module": "@jupyter-widgets/base",
            "_view_module_version": "1.2.0",
            "_view_name": "LayoutView",
            "align_content": null,
            "align_items": null,
            "align_self": null,
            "border": null,
            "bottom": null,
            "display": null,
            "flex": null,
            "flex_flow": null,
            "grid_area": null,
            "grid_auto_columns": null,
            "grid_auto_flow": null,
            "grid_auto_rows": null,
            "grid_column": null,
            "grid_gap": null,
            "grid_row": null,
            "grid_template_areas": null,
            "grid_template_columns": null,
            "grid_template_rows": null,
            "height": null,
            "justify_content": null,
            "justify_items": null,
            "left": null,
            "margin": null,
            "max_height": null,
            "max_width": null,
            "min_height": null,
            "min_width": null,
            "object_fit": null,
            "object_position": null,
            "order": null,
            "overflow": null,
            "overflow_x": null,
            "overflow_y": null,
            "padding": null,
            "right": null,
            "top": null,
            "visibility": null,
            "width": null
          }
        },
        "b8c06e94b8964120bcc9fe48a4d9b342": {
          "model_module": "@jupyter-widgets/controls",
          "model_name": "DescriptionStyleModel",
          "model_module_version": "1.5.0",
          "state": {
            "_model_module": "@jupyter-widgets/controls",
            "_model_module_version": "1.5.0",
            "_model_name": "DescriptionStyleModel",
            "_view_count": null,
            "_view_module": "@jupyter-widgets/base",
            "_view_module_version": "1.2.0",
            "_view_name": "StyleView",
            "description_width": ""
          }
        }
      }
    }
  },
  "nbformat": 4,
  "nbformat_minor": 0
}